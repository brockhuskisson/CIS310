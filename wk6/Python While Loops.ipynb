{
 "cells": [
  {
   "cell_type": "markdown",
   "metadata": {},
   "source": [
    "# Brock Huskisson\n",
    "## Week 6 - 09/29/2020\n",
    "### Python While Loops"
   ]
  },
  {
   "cell_type": "markdown",
   "metadata": {},
   "source": [
    "**The general format of Python while loops:**\n",
    "    \n",
    "<code>while test:\n",
    "           statements</code>"
   ]
  },
  {
   "cell_type": "code",
   "execution_count": null,
   "metadata": {},
   "outputs": [],
   "source": [
    "num = 1\n",
    "while num < 6:\n",
    "    print(num)\n",
    "    num+=1"
   ]
  },
  {
   "cell_type": "code",
   "execution_count": null,
   "metadata": {},
   "outputs": [],
   "source": [
    "num = 1\n",
    "while num < 6:\n",
    "    print('num is currently:',num)\n",
    "    print('num is less than 6, now adding 1 to num')\n",
    "    num+=1"
   ]
  },
  {
   "cell_type": "code",
   "execution_count": null,
   "metadata": {},
   "outputs": [],
   "source": [
    "num = 1\n",
    "while num < 6:\n",
    "    print('num is currently:',num)\n",
    "    print('num is less than 6, now adding 1 to num')\n",
    "    num+=1\n",
    "else:\n",
    "    print('Now while condition is not true, num is currently', num)"
   ]
  },
  {
   "cell_type": "code",
   "execution_count": null,
   "metadata": {},
   "outputs": [],
   "source": [
    "num = 1\n",
    "while num < 10:\n",
    "    print('num is currently:',num)\n",
    "    print('num is less than 6, now adding 1 to num, if num != 5')\n",
    "    if num == 5:\n",
    "        break\n",
    "    num+=1"
   ]
  },
  {
   "cell_type": "code",
   "execution_count": null,
   "metadata": {},
   "outputs": [],
   "source": [
    "#continue keyword\n",
    "num = 0\n",
    "while num < 10:\n",
    "    num +=1\n",
    "    if num == 5:\n",
    "        pass\n",
    "    else:\n",
    "        print('num is currently:',num)\n",
    "        print('num is less than 6, now adding 1 to num')\n",
    "       "
   ]
  },
  {
   "cell_type": "code",
   "execution_count": null,
   "metadata": {},
   "outputs": [],
   "source": [
    "#continue keyword\n",
    "num = 0\n",
    "while num < 10:\n",
    "    num +=1\n",
    "    if num % 2 == 1:\n",
    "        pass\n",
    "    else:\n",
    "        print('num is currently:',num)\n",
    "        print('num is less than 10, now adding 1 to num')"
   ]
  },
  {
   "cell_type": "code",
   "execution_count": null,
   "metadata": {},
   "outputs": [],
   "source": [
    "num = 0\n",
    "while num < 10:\n",
    "    num +=1\n",
    "    if num % 2 == 0:\n",
    "        print('num is currently:',num)\n",
    "        print('num is less than 10, now adding 1 to num')"
   ]
  },
  {
   "cell_type": "code",
   "execution_count": null,
   "metadata": {},
   "outputs": [],
   "source": [
    "while True:\n",
    "    print('Infinite Loop!!!')"
   ]
  },
  {
   "cell_type": "code",
   "execution_count": null,
   "metadata": {},
   "outputs": [],
   "source": []
  }
 ],
 "metadata": {
  "kernelspec": {
   "display_name": "Python 3.7 - default",
   "language": "python",
   "name": "py37_default"
  },
  "language_info": {
   "codemirror_mode": {
    "name": "ipython",
    "version": 3
   },
   "file_extension": ".py",
   "mimetype": "text/x-python",
   "name": "python",
   "nbconvert_exporter": "python",
   "pygments_lexer": "ipython3",
   "version": "3.7.7"
  }
 },
 "nbformat": 4,
 "nbformat_minor": 4
}
